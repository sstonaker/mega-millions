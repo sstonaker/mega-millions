{
 "cells": [
  {
   "cell_type": "code",
   "execution_count": 13,
   "metadata": {},
   "outputs": [],
   "source": [
    "import json\n",
    "from pprint import pprint as PP\n",
    "import pandas as pd\n",
    "import numpy as np\n",
    "from scipy import stats\n",
    "from collections import Counter\n",
    "\n",
    "import requests\n",
    "from bs4 import BeautifulSoup as BS"
   ]
  },
  {
   "cell_type": "code",
   "execution_count": 3,
   "metadata": {},
   "outputs": [],
   "source": [
    "url = \"https://www.megamillions.com/cmspages/utilservice.asmx/GetDrawingPagingData\"\n",
    "params = dict(pageNumber=1, pageSize=100000, startDate=\"\", endDate=\"\")\n",
    "page = requests.get(url, params)"
   ]
  },
  {
   "cell_type": "code",
   "execution_count": 6,
   "metadata": {},
   "outputs": [],
   "source": [
    "\n",
    "soup = BS(page.content, \"html.parser\")\n",
    "content = json.loads(soup.find(\"string\").contents[0])\n",
    "d = content[\"DrawingData\"]"
   ]
  },
  {
   "cell_type": "code",
   "execution_count": 7,
   "metadata": {},
   "outputs": [
    {
     "name": "stdout",
     "output_type": "stream",
     "text": [
      "                 PlayDate  N1  N2  N3  N4  N5  MBall  Megaplier UpdatedBy  \\\n",
      "0     2022-07-29T00:00:00  13  36  45  57  67     14          2   SERVICE   \n",
      "1     2022-07-26T00:00:00   7  29  60  63  66     15          3   SERVICE   \n",
      "2     2022-07-22T00:00:00  14  40  60  64  66     16          3   SERVICE   \n",
      "3     2022-07-19T00:00:00   2  31  32  37  70     25          3   SERVICE   \n",
      "4     2022-07-15T00:00:00   8  20  26  53  64     15          5   SERVICE   \n",
      "...                   ...  ..  ..  ..  ..  ..    ...        ...       ...   \n",
      "1299  2010-02-16T00:00:00  11  12  21  29  45      5          3   SERVICE   \n",
      "1300  2010-02-12T00:00:00  14  16  17  33  47     23          4   SERVICE   \n",
      "1301  2010-02-09T00:00:00   2  17  20  26  48     12          4   SERVICE   \n",
      "1302  2010-02-05T00:00:00  10  20  45  51  53     41          4   SERVICE   \n",
      "1303  2010-02-02T00:00:00   6   7  26  27  49      9          4   SERVICE   \n",
      "\n",
      "              UpdatedTime       PlayDateTicks   IgnoreServiceUntil  \n",
      "0     2022-07-29T23:15:05  637946496000000000  2022-07-28T14:00:00  \n",
      "1     2022-07-29T23:02:01  637943904000000000  2022-07-28T14:00:00  \n",
      "2     2022-07-26T22:59:02  637940448000000000  2022-07-26T16:00:00  \n",
      "3     2022-07-22T23:11:03  637937856000000000  2021-01-05T15:51:55  \n",
      "4     2022-07-19T23:08:02  637934400000000000  2021-01-05T15:51:55  \n",
      "...                   ...                 ...                  ...  \n",
      "1299  2018-10-09T10:20:09  634018752000000000                 None  \n",
      "1300  2018-10-09T10:20:09  634015296000000000                 None  \n",
      "1301  2018-10-09T10:20:09  634012704000000000                 None  \n",
      "1302  2018-10-09T10:20:09  634009248000000000                 None  \n",
      "1303  2018-10-09T10:20:09  634006656000000000                 None  \n",
      "\n",
      "[1304 rows x 12 columns]\n"
     ]
    }
   ],
   "source": [
    "df = pd.DataFrame(\n",
    "d\n",
    ")\n",
    "print(df)"
   ]
  },
  {
   "cell_type": "code",
   "execution_count": 8,
   "metadata": {},
   "outputs": [
    {
     "data": {
      "text/html": [
       "<div>\n",
       "<style scoped>\n",
       "    .dataframe tbody tr th:only-of-type {\n",
       "        vertical-align: middle;\n",
       "    }\n",
       "\n",
       "    .dataframe tbody tr th {\n",
       "        vertical-align: top;\n",
       "    }\n",
       "\n",
       "    .dataframe thead th {\n",
       "        text-align: right;\n",
       "    }\n",
       "</style>\n",
       "<table border=\"1\" class=\"dataframe\">\n",
       "  <thead>\n",
       "    <tr style=\"text-align: right;\">\n",
       "      <th></th>\n",
       "      <th>N1</th>\n",
       "      <th>N2</th>\n",
       "      <th>N3</th>\n",
       "      <th>N4</th>\n",
       "      <th>N5</th>\n",
       "      <th>MBall</th>\n",
       "    </tr>\n",
       "  </thead>\n",
       "  <tbody>\n",
       "    <tr>\n",
       "      <th>0</th>\n",
       "      <td>2.0</td>\n",
       "      <td>15.0</td>\n",
       "      <td>31.0</td>\n",
       "      <td>46</td>\n",
       "      <td>56.0</td>\n",
       "      <td>9.0</td>\n",
       "    </tr>\n",
       "    <tr>\n",
       "      <th>1</th>\n",
       "      <td>NaN</td>\n",
       "      <td>NaN</td>\n",
       "      <td>NaN</td>\n",
       "      <td>48</td>\n",
       "      <td>NaN</td>\n",
       "      <td>NaN</td>\n",
       "    </tr>\n",
       "  </tbody>\n",
       "</table>\n",
       "</div>"
      ],
      "text/plain": [
       "    N1    N2    N3  N4    N5  MBall\n",
       "0  2.0  15.0  31.0  46  56.0    9.0\n",
       "1  NaN   NaN   NaN  48   NaN    NaN"
      ]
     },
     "execution_count": 8,
     "metadata": {},
     "output_type": "execute_result"
    }
   ],
   "source": [
    "df.iloc[:, 1:7].mode()"
   ]
  },
  {
   "cell_type": "code",
   "execution_count": 26,
   "metadata": {},
   "outputs": [
    {
     "name": "stdout",
     "output_type": "stream",
     "text": [
      "Most common draws:\n",
      "Ball: 20 x127\n",
      "Ball: 31 x123\n",
      "Ball: 11 x120\n",
      "Ball: 17 x119\n",
      "Ball: 10 x118\n",
      "Ball: 4 x113\n",
      "Mega Ball: 9 x66\n"
     ]
    }
   ],
   "source": [
    "balls = df.iloc[:, 1:6].to_numpy().flatten()\n",
    "mb = df.iloc[:, 6].to_numpy().flatten()\n",
    "top_balls = Counter(balls).most_common(6)\n",
    "top_mb = Counter(mb).most_common(1)\n",
    "print(\"Most common draws:\")\n",
    "for mode in top_balls:\n",
    "    print(f\"Ball: {mode[0]} x{mode[1]}\")\n",
    "print(f\"Mega Ball: {top_mb[0][0]} x{top_mb[0][1]}\")"
   ]
  }
 ],
 "metadata": {
  "kernelspec": {
   "display_name": "Python 3.10.4 64-bit",
   "language": "python",
   "name": "python3"
  },
  "language_info": {
   "codemirror_mode": {
    "name": "ipython",
    "version": 3
   },
   "file_extension": ".py",
   "mimetype": "text/x-python",
   "name": "python",
   "nbconvert_exporter": "python",
   "pygments_lexer": "ipython3",
   "version": "3.10.4"
  },
  "orig_nbformat": 4,
  "vscode": {
   "interpreter": {
    "hash": "7e1998ff7f8aa20ada591c520b972326324e5ea05489af9e422744c7c09f6dad"
   }
  }
 },
 "nbformat": 4,
 "nbformat_minor": 2
}
