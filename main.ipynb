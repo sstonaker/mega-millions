{
 "cells": [
  {
   "cell_type": "code",
   "execution_count": 28,
   "metadata": {},
   "outputs": [],
   "source": [
    "import json\n",
    "from pprint import pprint as PP\n",
    "import pandas as pd\n",
    "import numpy as np\n",
    "from scipy import stats\n",
    "from collections import Counter\n",
    "\n",
    "import requests\n",
    "from bs4 import BeautifulSoup as BS"
   ]
  },
  {
   "cell_type": "code",
   "execution_count": 40,
   "metadata": {},
   "outputs": [],
   "source": [
    "url = \"https://www.megamillions.com/cmspages/utilservice.asmx/GetDrawingPagingData\"\n",
    "params = dict(pageNumber=1, pageSize=100000, startDate=\"\", endDate=\"\")\n",
    "page = requests.get(url, params)\n",
    "\n",
    "soup = BS(page.content, \"html.parser\")\n",
    "content = json.loads(soup.find(\"string\").contents[0])"
   ]
  },
  {
   "cell_type": "code",
   "execution_count": 47,
   "metadata": {},
   "outputs": [
    {
     "data": {
      "text/html": [
       "<div>\n",
       "<style scoped>\n",
       "    .dataframe tbody tr th:only-of-type {\n",
       "        vertical-align: middle;\n",
       "    }\n",
       "\n",
       "    .dataframe tbody tr th {\n",
       "        vertical-align: top;\n",
       "    }\n",
       "\n",
       "    .dataframe thead th {\n",
       "        text-align: right;\n",
       "    }\n",
       "</style>\n",
       "<table border=\"1\" class=\"dataframe\">\n",
       "  <thead>\n",
       "    <tr style=\"text-align: right;\">\n",
       "      <th></th>\n",
       "      <th>N1</th>\n",
       "      <th>N2</th>\n",
       "      <th>N3</th>\n",
       "      <th>N4</th>\n",
       "      <th>N5</th>\n",
       "      <th>MBall</th>\n",
       "    </tr>\n",
       "  </thead>\n",
       "  <tbody>\n",
       "    <tr>\n",
       "      <th>0</th>\n",
       "      <td>2.0</td>\n",
       "      <td>15.0</td>\n",
       "      <td>31.0</td>\n",
       "      <td>46</td>\n",
       "      <td>56.0</td>\n",
       "      <td>9.0</td>\n",
       "    </tr>\n",
       "    <tr>\n",
       "      <th>1</th>\n",
       "      <td>NaN</td>\n",
       "      <td>NaN</td>\n",
       "      <td>NaN</td>\n",
       "      <td>48</td>\n",
       "      <td>NaN</td>\n",
       "      <td>NaN</td>\n",
       "    </tr>\n",
       "  </tbody>\n",
       "</table>\n",
       "</div>"
      ],
      "text/plain": [
       "    N1    N2    N3  N4    N5  MBall\n",
       "0  2.0  15.0  31.0  46  56.0    9.0\n",
       "1  NaN   NaN   NaN  48   NaN    NaN"
      ]
     },
     "execution_count": 47,
     "metadata": {},
     "output_type": "execute_result"
    }
   ],
   "source": [
    "df = pd.DataFrame(content[\"DrawingData\"])\n",
    "df.iloc[:, 1:7].mode()"
   ]
  },
  {
   "cell_type": "code",
   "execution_count": 53,
   "metadata": {},
   "outputs": [
    {
     "name": "stdout",
     "output_type": "stream",
     "text": [
      "25 most common draws:\n",
      "Ball: 20 x127\n",
      "Ball: 31 x123\n",
      "Ball: 11 x120\n",
      "Ball: 17 x119\n",
      "Ball: 10 x118\n",
      "Ball: 4 x113\n",
      "Ball: 48 x113\n",
      "Ball: 3 x112\n",
      "Ball: 2 x111\n",
      "Ball: 14 x110\n",
      "Ball: 53 x108\n",
      "Ball: 38 x106\n",
      "Ball: 24 x106\n",
      "Ball: 29 x105\n",
      "Ball: 46 x105\n",
      "Ball: 28 x104\n",
      "Ball: 25 x102\n",
      "Ball: 56 x102\n",
      "Ball: 41 x101\n",
      "Ball: 6 x100\n",
      "Ball: 44 x100\n",
      "Ball: 8 x99\n",
      "Ball: 34 x99\n",
      "Ball: 15 x99\n",
      "Ball: 39 x99\n",
      "Mega Ball: 9 x66\n",
      "Mega Ball: 15 x63\n",
      "Mega Ball: 10 x62\n",
      "Mega Ball: 11 x61\n",
      "Mega Ball: 4 x58\n",
      "Mega Ball: 1 x57\n",
      "Mega Ball: 7 x57\n",
      "Mega Ball: 6 x56\n",
      "Mega Ball: 13 x55\n",
      "Mega Ball: 14 x53\n",
      "Mega Ball: 3 x53\n",
      "Mega Ball: 12 x51\n",
      "Mega Ball: 8 x49\n",
      "Mega Ball: 2 x45\n",
      "Mega Ball: 5 x45\n",
      "Mega Ball: 24 x34\n",
      "Mega Ball: 19 x34\n",
      "Mega Ball: 25 x33\n",
      "Mega Ball: 22 x31\n",
      "Mega Ball: 20 x30\n",
      "Mega Ball: 18 x29\n",
      "Mega Ball: 17 x28\n",
      "Mega Ball: 16 x25\n",
      "Mega Ball: 21 x23\n",
      "Mega Ball: 23 x22\n"
     ]
    }
   ],
   "source": [
    "balls = df.iloc[:, 1:6].to_numpy().flatten()\n",
    "mb = df.iloc[:, 6].to_numpy().flatten()\n",
    "top_number = 25\n",
    "top_balls = Counter(balls).most_common(top_number)\n",
    "top_mb = Counter(mb).most_common(top_number)\n",
    "print(f\"{top_number} most common draws:\")\n",
    "for mode in top_balls:\n",
    "    print(f\"Ball: {mode[0]} x{mode[1]}\")\n",
    "for mode in top_mb:\n",
    "    print(f\"Mega Ball: {mode[0]} x{mode[1]}\")\n"
   ]
  }
 ],
 "metadata": {
  "kernelspec": {
   "display_name": "Python 3.10.4 64-bit",
   "language": "python",
   "name": "python3"
  },
  "language_info": {
   "codemirror_mode": {
    "name": "ipython",
    "version": 3
   },
   "file_extension": ".py",
   "mimetype": "text/x-python",
   "name": "python",
   "nbconvert_exporter": "python",
   "pygments_lexer": "ipython3",
   "version": "3.10.4"
  },
  "orig_nbformat": 4,
  "vscode": {
   "interpreter": {
    "hash": "7e1998ff7f8aa20ada591c520b972326324e5ea05489af9e422744c7c09f6dad"
   }
  }
 },
 "nbformat": 4,
 "nbformat_minor": 2
}
