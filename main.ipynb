{
 "cells": [
  {
   "cell_type": "code",
   "execution_count": 4,
   "metadata": {},
   "outputs": [],
   "source": [
    "import json\n",
    "from pprint import pprint as PP\n",
    "import pandas as pd\n",
    "import numpy as np\n",
    "\n",
    "import requests\n",
    "from bs4 import BeautifulSoup as BS"
   ]
  },
  {
   "cell_type": "code",
   "execution_count": 7,
   "metadata": {},
   "outputs": [],
   "source": [
    "url = \"https://www.megamillions.com/cmspages/utilservice.asmx/GetDrawingPagingData\"\n",
    "params = dict(pageNumber=1, pageSize=100000, startDate=\"\", endDate=\"\")\n",
    "page = requests.get(url, params)"
   ]
  },
  {
   "cell_type": "code",
   "execution_count": 8,
   "metadata": {},
   "outputs": [],
   "source": [
    "\n",
    "soup = BS(page.content, \"html.parser\")\n",
    "content = json.loads(soup.find(\"string\").contents[0])\n",
    "d = content[\"DrawingData\"]"
   ]
  },
  {
   "cell_type": "code",
   "execution_count": 9,
   "metadata": {},
   "outputs": [
    {
     "name": "stdout",
     "output_type": "stream",
     "text": [
      "                 PlayDate  N1  N2  N3  N4  N5  MBall  Megaplier UpdatedBy  \\\n",
      "0     2022-07-29T00:00:00  13  36  45  57  67     14          2   SERVICE   \n",
      "1     2022-07-26T00:00:00   7  29  60  63  66     15          3   SERVICE   \n",
      "2     2022-07-22T00:00:00  14  40  60  64  66     16          3   SERVICE   \n",
      "3     2022-07-19T00:00:00   2  31  32  37  70     25          3   SERVICE   \n",
      "4     2022-07-15T00:00:00   8  20  26  53  64     15          5   SERVICE   \n",
      "...                   ...  ..  ..  ..  ..  ..    ...        ...       ...   \n",
      "1299  2010-02-16T00:00:00  11  12  21  29  45      5          3   SERVICE   \n",
      "1300  2010-02-12T00:00:00  14  16  17  33  47     23          4   SERVICE   \n",
      "1301  2010-02-09T00:00:00   2  17  20  26  48     12          4   SERVICE   \n",
      "1302  2010-02-05T00:00:00  10  20  45  51  53     41          4   SERVICE   \n",
      "1303  2010-02-02T00:00:00   6   7  26  27  49      9          4   SERVICE   \n",
      "\n",
      "              UpdatedTime       PlayDateTicks   IgnoreServiceUntil  \n",
      "0     2022-07-29T23:15:05  637946496000000000  2022-07-28T14:00:00  \n",
      "1     2022-07-29T23:02:01  637943904000000000  2022-07-28T14:00:00  \n",
      "2     2022-07-26T22:59:02  637940448000000000  2022-07-26T16:00:00  \n",
      "3     2022-07-22T23:11:03  637937856000000000  2021-01-05T15:51:55  \n",
      "4     2022-07-19T23:08:02  637934400000000000  2021-01-05T15:51:55  \n",
      "...                   ...                 ...                  ...  \n",
      "1299  2018-10-09T10:20:09  634018752000000000                 None  \n",
      "1300  2018-10-09T10:20:09  634015296000000000                 None  \n",
      "1301  2018-10-09T10:20:09  634012704000000000                 None  \n",
      "1302  2018-10-09T10:20:09  634009248000000000                 None  \n",
      "1303  2018-10-09T10:20:09  634006656000000000                 None  \n",
      "\n",
      "[1304 rows x 12 columns]\n"
     ]
    }
   ],
   "source": [
    "df = pd.DataFrame(\n",
    "d\n",
    ")\n",
    "print(df)"
   ]
  },
  {
   "cell_type": "code",
   "execution_count": 37,
   "metadata": {},
   "outputs": [
    {
     "name": "stdout",
     "output_type": "stream",
     "text": [
      "0    2\n",
      "Name: N1, dtype: int64\n",
      "0    15\n",
      "Name: N2, dtype: int64\n",
      "0    31\n",
      "Name: N3, dtype: int64\n",
      "0    46\n",
      "1    48\n",
      "Name: N4, dtype: int64\n",
      "0    56\n",
      "Name: N5, dtype: int64\n",
      "0    9\n",
      "Name: MBall, dtype: int64\n"
     ]
    }
   ],
   "source": [
    "mb = df.MBall.mode()\n",
    "n1 = df.N1.mode()\n",
    "n2 = df.N2.mode()\n",
    "n3 = df.N3.mode()\n",
    "n4 = df.N4.mode()\n",
    "n5 = df.N5.mode()\n",
    "\n",
    "modes = [n1, n2, n3, n4, n5, mb]\n",
    "\n",
    "for mode in modes:\n",
    "    print(mode)"
   ]
  }
 ],
 "metadata": {
  "kernelspec": {
   "display_name": "Python 3.8.9 64-bit",
   "language": "python",
   "name": "python3"
  },
  "language_info": {
   "codemirror_mode": {
    "name": "ipython",
    "version": 3
   },
   "file_extension": ".py",
   "mimetype": "text/x-python",
   "name": "python",
   "nbconvert_exporter": "python",
   "pygments_lexer": "ipython3",
   "version": "3.8.9"
  },
  "orig_nbformat": 4,
  "vscode": {
   "interpreter": {
    "hash": "31f2aee4e71d21fbe5cf8b01ff0e069b9275f58929596ceb00d14d90e3e16cd6"
   }
  }
 },
 "nbformat": 4,
 "nbformat_minor": 2
}
