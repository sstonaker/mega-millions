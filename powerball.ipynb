{
 "cells": [
  {
   "cell_type": "code",
   "execution_count": 2,
   "metadata": {},
   "outputs": [],
   "source": [
    "import json\n",
    "from pprint import pprint as PP\n",
    "import pandas as pd\n",
    "from collections import Counter\n",
    "import random\n",
    "import requests\n",
    "from bs4 import BeautifulSoup as BS"
   ]
  },
  {
   "cell_type": "markdown",
   "metadata": {},
   "source": [
    "### Get historical data\n",
    "Inspecting the Texas lotto website, we find the data that feeds the historical numbers.\n",
    "\n",
    "Using the data that feeds the webpage for historical data, grab a large number of records\n",
    "(12 years) to get a good sample of data.\n",
    "\n",
    "Parse the data into a json object and load the contents into a python dictionary."
   ]
  },
  {
   "cell_type": "code",
   "execution_count": 3,
   "metadata": {},
   "outputs": [],
   "source": [
    "url = \"https://www.texaslottery.com/export/sites/lottery/Games/Powerball/Winning_Numbers/index.html_2013354932.html\"\n",
    "page = requests.get(url)\n",
    "\n",
    "soup = BS(page.content, \"html.parser\")\n",
    "elements = soup.findAll('td')\n",
    "rows = len(elements)//6\n",
    "\n",
    "content = []\n",
    "for i in range(rows):\n",
    "    try:\n",
    "        date = str(elements[i*6+0]).split('\">')[1].split(\"<\")[0]\n",
    "        balls = str(elements[i*6+1])[4:-5].split(\" - \")\n",
    "        n1 = balls[0]\n",
    "        n2 = balls[1]\n",
    "        n3 = balls[2]\n",
    "        n4 = balls[3]\n",
    "        n5 = balls[4]\n",
    "    \n",
    "        pb = str(elements[i*6+2])[4:-5]\n",
    "    except:\n",
    "        continue\n",
    "    \n",
    "    content.append(\n",
    "        {\"date\": date,\n",
    "        \"n1\": n1,\n",
    "        \"n2\": n2,\n",
    "        \"n3\": n3,\n",
    "        \"n4\": n4,\n",
    "        \"n5\": n5,\n",
    "        \"powerball\": pb})\n",
    "\n",
    "    "
   ]
  },
  {
   "cell_type": "markdown",
   "metadata": {},
   "source": [
    "### Most common bins\n",
    "Since numbers are stored in sorted order, we can bin the most common occurrences in 5 sets with the Powerball Ball."
   ]
  },
  {
   "cell_type": "code",
   "execution_count": 4,
   "metadata": {},
   "outputs": [
    {
     "data": {
      "text/html": [
       "<div>\n",
       "<style scoped>\n",
       "    .dataframe tbody tr th:only-of-type {\n",
       "        vertical-align: middle;\n",
       "    }\n",
       "\n",
       "    .dataframe tbody tr th {\n",
       "        vertical-align: top;\n",
       "    }\n",
       "\n",
       "    .dataframe thead th {\n",
       "        text-align: right;\n",
       "    }\n",
       "</style>\n",
       "<table border=\"1\" class=\"dataframe\">\n",
       "  <thead>\n",
       "    <tr style=\"text-align: right;\">\n",
       "      <th></th>\n",
       "      <th>n1</th>\n",
       "      <th>n2</th>\n",
       "      <th>n3</th>\n",
       "      <th>n4</th>\n",
       "      <th>n5</th>\n",
       "      <th>powerball</th>\n",
       "    </tr>\n",
       "  </thead>\n",
       "  <tbody>\n",
       "    <tr>\n",
       "      <th>0</th>\n",
       "      <td>5</td>\n",
       "      <td>15</td>\n",
       "      <td>37</td>\n",
       "      <td>56</td>\n",
       "      <td>59</td>\n",
       "      <td>16</td>\n",
       "    </tr>\n",
       "    <tr>\n",
       "      <th>1</th>\n",
       "      <td>NaN</td>\n",
       "      <td>28</td>\n",
       "      <td>NaN</td>\n",
       "      <td>NaN</td>\n",
       "      <td>NaN</td>\n",
       "      <td>5</td>\n",
       "    </tr>\n",
       "  </tbody>\n",
       "</table>\n",
       "</div>"
      ],
      "text/plain": [
       "    n1  n2   n3   n4   n5 powerball\n",
       "0    5  15   37   56   59        16\n",
       "1  NaN  28  NaN  NaN  NaN         5"
      ]
     },
     "execution_count": 4,
     "metadata": {},
     "output_type": "execute_result"
    }
   ],
   "source": [
    "df = pd.DataFrame(content)\n",
    "df.iloc[:, 1:7].mode()"
   ]
  },
  {
   "cell_type": "markdown",
   "metadata": {},
   "source": [
    "### Other Statistics\n",
    "All 5 normal balls are looked at to see which numbers appear most commonly.\n",
    "The Mega Ball is looked at separately.\n",
    "\n",
    "Reduces the number of balls to only the top 50% to increase odds"
   ]
  },
  {
   "cell_type": "code",
   "execution_count": 53,
   "metadata": {},
   "outputs": [
    {
     "name": "stdout",
     "output_type": "stream",
     "text": [
      "34 most common draws:\n",
      "Ball: 56 x25\n",
      "Ball: 19 x25\n",
      "Ball: 59 x25\n",
      "Ball: 23 x24\n",
      "Ball: 37 x24\n",
      "Ball: 18 x23\n",
      "Ball: 54 x23\n",
      "Ball: 28 x22\n",
      "Ball: 3 x22\n",
      "Ball: 16 x22\n",
      "Ball: 5 x22\n",
      "Ball: 50 x22\n",
      "Ball: 53 x21\n",
      "Ball: 36 x21\n",
      "Ball: 29 x20\n",
      "Ball: 58 x20\n",
      "Ball: 10 x20\n",
      "Ball: 39 x20\n",
      "Ball: 41 x20\n",
      "Ball: 13 x19\n",
      "Ball: 38 x19\n",
      "Ball: 4 x19\n",
      "Ball: 57 x19\n",
      "Ball: 15 x19\n",
      "Ball: 31 x19\n",
      "Ball: 55 x18\n",
      "Ball: 51 x18\n",
      "Ball: 26 x18\n",
      "Ball: 34 x18\n",
      "Ball: 7 x18\n",
      "Ball: 45 x17\n",
      "Ball: 2 x17\n",
      "Ball: 35 x17\n",
      "Ball: 40 x17\n",
      "Powerball Ball: 5 x12\n",
      "Powerball Ball: 16 x12\n",
      "Powerball Ball: 21 x11\n",
      "Powerball Ball: 4 x10\n",
      "Powerball Ball: 25 x10\n",
      "Powerball Ball: 8 x10\n",
      "Powerball Ball: 18 x9\n",
      "Powerball Ball: 10 x9\n",
      "Powerball Ball: 6 x9\n",
      "Powerball Ball: 9 x9\n",
      "Powerball Ball: 15 x9\n",
      "Powerball Ball: 14 x8\n",
      "Powerball Ball: 20 x7\n",
      "Powerball Ball: 11 x7\n",
      "Powerball Ball: 13 x7\n",
      "Powerball Ball: 17 x7\n",
      "Powerball Ball: 2 x6\n",
      "Powerball Ball: 12 x6\n",
      "Powerball Ball: 26 x6\n",
      "Powerball Ball: 19 x6\n",
      "Powerball Ball: 23 x6\n",
      "Powerball Ball: 24 x6\n",
      "Powerball Ball: 22 x6\n",
      "Powerball Ball: 33 x6\n",
      "Powerball Ball: 7 x5\n",
      "Powerball Ball: 1 x5\n",
      "Powerball Ball: 3 x5\n",
      "Powerball Ball: 27 x3\n",
      "Powerball Ball: 35 x3\n",
      "Powerball Ball: 29 x3\n",
      "Powerball Ball: 30 x3\n",
      "Powerball Ball: 28 x2\n",
      "Powerball Ball: 34 x2\n",
      "Powerball Ball: 32 x2\n"
     ]
    }
   ],
   "source": [
    "balls = df.iloc[:, 1:6].to_numpy().flatten()\n",
    "int_balls = [int(ball) for ball in balls]\n",
    "pb = df.iloc[:, 6].to_numpy().flatten()\n",
    "int_pb = [int(b) for b in pb]\n",
    "\n",
    "# change here to use a larger or smaller percentage of the top numbers\n",
    "top_numbers = max(int_balls)//2\n",
    "top_pbs = max(int_pb)//2\n",
    "\n",
    "top_balls = Counter(balls).most_common(top_numbers)\n",
    "top_pb = Counter(pb).most_common(top_numbers)\n",
    "\n",
    "print(f\"{top_numbers} most common draws:\")\n",
    "for mode in top_balls:\n",
    "    print(f\"Ball: {mode[0]} x{mode[1]}\")\n",
    "for mode in top_pb:\n",
    "    print(f\"Powerball Ball: {mode[0]} x{mode[1]}\")\n"
   ]
  },
  {
   "cell_type": "code",
   "execution_count": 62,
   "metadata": {},
   "outputs": [
    {
     "name": "stdout",
     "output_type": "stream",
     "text": [
      "Numbers: ['40', '55', '4', '45', '59']\n",
      "Powerball: 9\n"
     ]
    }
   ],
   "source": [
    "numbers = []\n",
    "\n",
    "while (len(numbers) < 5):\n",
    "    draw = random.choice(top_balls)[0]\n",
    "    if draw not in numbers:\n",
    "        numbers.append(draw)\n",
    "\n",
    "pb = random.choice(top_pb)[0]\n",
    "\n",
    "print(f\"Numbers: {numbers}\")\n",
    "print(f\"Powerball: {pb}\")\n"
   ]
  }
 ],
 "metadata": {
  "kernelspec": {
   "display_name": "Python 3.10.4 ('.venv': venv)",
   "language": "python",
   "name": "python3"
  },
  "language_info": {
   "codemirror_mode": {
    "name": "ipython",
    "version": 3
   },
   "file_extension": ".py",
   "mimetype": "text/x-python",
   "name": "python",
   "nbconvert_exporter": "python",
   "pygments_lexer": "ipython3",
   "version": "3.10.4"
  },
  "orig_nbformat": 4,
  "vscode": {
   "interpreter": {
    "hash": "8de40994a59fb18024a0ebc9213d442127a1e1d5fc0d2306652bb72b1b3bf156"
   }
  }
 },
 "nbformat": 4,
 "nbformat_minor": 2
}
